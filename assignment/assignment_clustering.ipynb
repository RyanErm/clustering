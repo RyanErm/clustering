{
  "cells": [
    {
      "cell_type": "markdown",
      "id": "cfc23963-2cc5-4f1d-8278-fb1b2026afc5",
      "metadata": {
        "id": "cfc23963-2cc5-4f1d-8278-fb1b2026afc5"
      },
      "source": [
        "## Assignment: $k$ Means Clustering\n",
        "\n",
        "### `! git clone https://www.github.com/ds4e/clustering`\n",
        "\n",
        "### **Do Q1 and one other question.**"
      ]
    },
    {
      "cell_type": "markdown",
      "id": "26523935-9e8f-4377-920c-6f65605c0e31",
      "metadata": {
        "id": "26523935-9e8f-4377-920c-6f65605c0e31"
      },
      "source": [
        "**Q1.** This is a question about clustering. We want to investigate how adjusting the \"noisiness\" of the data impacts the quality of the algorithm and the difficulty of picking $k$.\n",
        "\n",
        "1. Run the code below, which creates four datasets: `df0_125`, `df0_25`, `df0_5`, `df1_0`, and `df2_0`. Each data set is created by increasing the amount of `noise` (standard deviation) around the cluster centers, from `0.125` to `0.25` to `0.5` to `1.0` to `2.0`.\n",
        "\n",
        "```\n",
        "import numpy as np\n",
        "import pandas as pd\n",
        "\n",
        "def createData(noise,N=50):\n",
        "    np.random.seed(100) # Set the seed for replicability\n",
        "    # Generate (x1,x2,g) triples:\n",
        "    X1 = np.array([np.random.normal(1,noise,N),np.random.normal(1,noise,N)])\n",
        "    X2 = np.array([np.random.normal(3,noise,N),np.random.normal(2,noise,N)])\n",
        "    X3 = np.array([np.random.normal(5,noise,N),np.random.normal(3,noise,N)])\n",
        "    # Concatenate into one data frame\n",
        "    gdf1 = pd.DataFrame({'x1':X1[0,:],'x2':X1[1,:],'group':'a'})\n",
        "    gdf2 = pd.DataFrame({'x1':X2[0,:],'x2':X2[1,:],'group':'b'})\n",
        "    gdf3 = pd.DataFrame({'x1':X3[0,:],'x2':X3[1,:],'group':'c'})\n",
        "    df = pd.concat([gdf1,gdf2,gdf3],axis=0)\n",
        "    return df\n",
        "\n",
        "df0_125 = createData(0.125)\n",
        "df0_25 = createData(0.25)\n",
        "df0_5 = createData(0.5)\n",
        "df1_0 = createData(1.0)\n",
        "df2_0 = createData(2.0)\n",
        "```\n",
        "\n",
        "2. Make scatterplots of the $(X1,X2)$ points by group for each of the datasets. As the `noise` goes up from 0.125 to 2.0, what happens to the visual distinctness of the clusters?\n",
        "3. Create a scree plot for each of the datasets. Describe how the level of `noise` affects the scree plot (particularly the presence of a clear \"elbow\") and your ability to definitively select a $k$. (Pay attention to the vertical axis across plots, or put all the scree curves on a single canvas.)\n",
        "4. Explain the intuition of the elbow, using this numerical simulation as an example."
      ]
    },
    {
      "cell_type": "code",
      "source": [
        "import numpy as np\n",
        "import pandas as pd\n",
        "\n",
        "def createData(noise,N=50):\n",
        "    np.random.seed(100) # Set the seed for replicability\n",
        "    # Generate (x1,x2,g) triples:\n",
        "    X1 = np.array([np.random.normal(1,noise,N),np.random.normal(1,noise,N)])\n",
        "    X2 = np.array([np.random.normal(3,noise,N),np.random.normal(2,noise,N)])\n",
        "    X3 = np.array([np.random.normal(5,noise,N),np.random.normal(3,noise,N)])\n",
        "    # Concatenate into one data frame\n",
        "    gdf1 = pd.DataFrame({'x1':X1[0,:],'x2':X1[1,:],'group':'a'})\n",
        "    gdf2 = pd.DataFrame({'x1':X2[0,:],'x2':X2[1,:],'group':'b'})\n",
        "    gdf3 = pd.DataFrame({'x1':X3[0,:],'x2':X3[1,:],'group':'c'})\n",
        "    df = pd.concat([gdf1,gdf2,gdf3],axis=0)\n",
        "    return df\n",
        "\n",
        "df0_125 = createData(0.125)\n",
        "df0_25 = createData(0.25)\n",
        "df0_5 = createData(0.5)\n",
        "df1_0 = createData(1.0)\n",
        "df2_0 = createData(2.0)"
      ],
      "metadata": {
        "id": "SbFkH2AIZG9N"
      },
      "id": "SbFkH2AIZG9N",
      "execution_count": 24,
      "outputs": []
    },
    {
      "cell_type": "code",
      "source": [
        "import seaborn as sns\n",
        "\n",
        "sns.scatterplot(data = df0_125, x = \"x1\", y = 'x2')"
      ],
      "metadata": {
        "id": "LYlKr9DEZJO5",
        "outputId": "e5682d13-2ccb-4c30-c96f-cd0ee3defa63",
        "colab": {
          "base_uri": "https://localhost:8080/",
          "height": 466
        }
      },
      "id": "LYlKr9DEZJO5",
      "execution_count": 25,
      "outputs": [
        {
          "output_type": "execute_result",
          "data": {
            "text/plain": [
              "<Axes: xlabel='x1', ylabel='x2'>"
            ]
          },
          "metadata": {},
          "execution_count": 25
        },
        {
          "output_type": "display_data",
          "data": {
            "text/plain": [
              "<Figure size 640x480 with 1 Axes>"
            ],
            "image/png": "[encoded data removed]"
          },
          "metadata": {}
        }
      ]
    },
    {
      "cell_type": "code",
      "source": [
        "df0_125 = df0_125[['x1', 'x2']]\n",
        "from sklearn.cluster import KMeans\n",
        "\n",
        "def maxmin(x):\n",
        "    x = (x-min(x))/(max(x)-min(x))\n",
        "    return x\n",
        "\n",
        "k_bar = 10\n",
        "SSE = []\n",
        "for k in range(k_bar):\n",
        "    model = KMeans(n_clusters=k+1, max_iter=300, n_init = 10, random_state=0)\n",
        "    model = model.fit(df0_125)\n",
        "    SSE.append(model.inertia_)\n",
        "\n",
        "scree_plot = sns.lineplot(x=np.arange(1,k_bar+1), y=SSE).set_title('Scree Plot')"
      ],
      "metadata": {
        "id": "nz3Txh9ca88j",
        "outputId": "514ef284-ba18-4011-ea20-698d860eb038",
        "colab": {
          "base_uri": "https://localhost:8080/",
          "height": 452
        }
      },
      "id": "nz3Txh9ca88j",
      "execution_count": 26,
      "outputs": [
        {
          "output_type": "display_data",
          "data": {
            "text/plain": [
              "<Figure size 640x480 with 1 Axes>"
            ],
            "image/png": "[encoded data removed]"
          },
          "metadata": {}
        }
      ]
    },
    {
      "cell_type": "code",
      "source": [
        "import seaborn as sns\n",
        "\n",
        "sns.scatterplot(data = df0_25, x = \"x1\", y = 'x2')"
      ],
      "metadata": {
        "id": "CVZe4yVeZ0Uf",
        "outputId": "6cde26ff-a2c4-418c-f7fa-b31e42c21266",
        "colab": {
          "base_uri": "https://localhost:8080/",
          "height": 466
        }
      },
      "id": "CVZe4yVeZ0Uf",
      "execution_count": 27,
      "outputs": [
        {
          "output_type": "execute_result",
          "data": {
            "text/plain": [
              "<Axes: xlabel='x1', ylabel='x2'>"
            ]
          },
          "metadata": {},
          "execution_count": 27
        },
        {
          "output_type": "display_data",
          "data": {
            "text/plain": [
              "<Figure size 640x480 with 1 Axes>"
            ],
            "image/png": "[encoded data removed]"
          },
          "metadata": {}
        }
      ]
    },
    {
      "cell_type": "code",
      "source": [
        "df0_25 = df0_25[['x1', 'x2']]\n",
        "from sklearn.cluster import KMeans\n",
        "\n",
        "def maxmin(x):\n",
        "    x = (x-min(x))/(max(x)-min(x))\n",
        "    return x\n",
        "\n",
        "k_bar = 10\n",
        "SSE = []\n",
        "for k in range(k_bar):\n",
        "    model = KMeans(n_clusters=k+1, max_iter=300, n_init = 10, random_state=0)\n",
        "    model = model.fit(df0_25)\n",
        "    SSE.append(model.inertia_)\n",
        "\n",
        "scree_plot = sns.lineplot(x=np.arange(1,k_bar+1), y=SSE).set_title('Scree Plot')"
      ],
      "metadata": {
        "id": "Y2zODDJVeLS7",
        "outputId": "63a15373-f96b-4730-c937-934a3f6edd7d",
        "colab": {
          "base_uri": "https://localhost:8080/",
          "height": 452
        }
      },
      "id": "Y2zODDJVeLS7",
      "execution_count": 28,
      "outputs": [
        {
          "output_type": "display_data",
          "data": {
            "text/plain": [
              "<Figure size 640x480 with 1 Axes>"
            ],
            "image/png": "[encoded data removed]"
          },
          "metadata": {}
        }
      ]
    },
    {
      "cell_type": "code",
      "source": [
        "import seaborn as sns\n",
        "\n",
        "sns.scatterplot(data = df0_5, x = \"x1\", y = 'x2')"
      ],
      "metadata": {
        "id": "1H6KsH6iZ0p2",
        "outputId": "faa27fd6-6e32-4238-a8a2-6cac7fe73bfd",
        "colab": {
          "base_uri": "https://localhost:8080/",
          "height": 466
        }
      },
      "id": "1H6KsH6iZ0p2",
      "execution_count": 29,
      "outputs": [
        {
          "output_type": "execute_result",
          "data": {
            "text/plain": [
              "<Axes: xlabel='x1', ylabel='x2'>"
            ]
          },
          "metadata": {},
          "execution_count": 29
        },
        {
          "output_type": "display_data",
          "data": {
            "text/plain": [
              "<Figure size 640x480 with 1 Axes>"
            ],
            "image/png": "[encoded data removed]"
          },
          "metadata": {}
        }
      ]
    },
    {
      "cell_type": "code",
      "source": [
        "df0_5 = df0_5[['x1', 'x2']]\n",
        "from sklearn.cluster import KMeans\n",
        "\n",
        "def maxmin(x):\n",
        "    x = (x-min(x))/(max(x)-min(x))\n",
        "    return x\n",
        "\n",
        "k_bar = 10\n",
        "SSE = []\n",
        "for k in range(k_bar):\n",
        "    model = KMeans(n_clusters=k+1, max_iter=300, n_init = 10, random_state=0)\n",
        "    model = model.fit(df0_5)\n",
        "    SSE.append(model.inertia_)\n",
        "\n",
        "scree_plot = sns.lineplot(x=np.arange(1,k_bar+1), y=SSE).set_title('Scree Plot')"
      ],
      "metadata": {
        "id": "40q1wqDKeShv",
        "outputId": "1e9b9497-355f-48af-a75a-ee6d092d147b",
        "colab": {
          "base_uri": "https://localhost:8080/",
          "height": 452
        }
      },
      "id": "40q1wqDKeShv",
      "execution_count": 30,
      "outputs": [
        {
          "output_type": "display_data",
          "data": {
            "text/plain": [
              "<Figure size 640x480 with 1 Axes>"
            ],
            "image/png": "[encoded data removed]"
          },
          "metadata": {}
        }
      ]
    },
    {
      "cell_type": "code",
      "source": [
        "import seaborn as sns\n",
        "\n",
        "sns.scatterplot(data = df1_0, x = \"x1\", y = 'x2')"
      ],
      "metadata": {
        "id": "mF21bcNeZ1Qe",
        "outputId": "aad26988-57ab-4f1a-94de-2f2454845859",
        "colab": {
          "base_uri": "https://localhost:8080/",
          "height": 469
        }
      },
      "id": "mF21bcNeZ1Qe",
      "execution_count": 31,
      "outputs": [
        {
          "output_type": "execute_result",
          "data": {
            "text/plain": [
              "<Axes: xlabel='x1', ylabel='x2'>"
            ]
          },
          "metadata": {},
          "execution_count": 31
        },
        {
          "output_type": "display_data",
          "data": {
            "text/plain": [
              "<Figure size 640x480 with 1 Axes>"
            ],
            "image/png": "[encoded data removed]"
          },
          "metadata": {}
        }
      ]
    },
    {
      "cell_type": "code",
      "source": [
        "df1_0 = df1_0[['x1', 'x2']]\n",
        "from sklearn.cluster import KMeans\n",
        "\n",
        "def maxmin(x):\n",
        "    x = (x-min(x))/(max(x)-min(x))\n",
        "    return x\n",
        "\n",
        "k_bar = 10\n",
        "SSE = []\n",
        "for k in range(k_bar):\n",
        "    model = KMeans(n_clusters=k+1, max_iter=300, n_init = 10, random_state=0)\n",
        "    model = model.fit(df1_0)\n",
        "    SSE.append(model.inertia_)\n",
        "\n",
        "scree_plot = sns.lineplot(x=np.arange(1,k_bar+1), y=SSE).set_title('Scree Plot')"
      ],
      "metadata": {
        "id": "vfJExdgdeWj0",
        "outputId": "6c8c1ae5-8579-419c-857e-b0bc7a0ccf54",
        "colab": {
          "base_uri": "https://localhost:8080/",
          "height": 452
        }
      },
      "id": "vfJExdgdeWj0",
      "execution_count": 32,
      "outputs": [
        {
          "output_type": "display_data",
          "data": {
            "text/plain": [
              "<Figure size 640x480 with 1 Axes>"
            ],
            "image/png": "[encoded data removed]"
          },
          "metadata": {}
        }
      ]
    },
    {
      "cell_type": "code",
      "source": [
        "import seaborn as sns\n",
        "\n",
        "sns.scatterplot(data = df2_0, x = \"x1\", y = 'x2')"
      ],
      "metadata": {
        "id": "z38z2p9IaOlq",
        "outputId": "5fcf23f7-e0e8-4f88-dccc-ac8488ad5619",
        "colab": {
          "base_uri": "https://localhost:8080/",
          "height": 466
        }
      },
      "id": "z38z2p9IaOlq",
      "execution_count": 33,
      "outputs": [
        {
          "output_type": "execute_result",
          "data": {
            "text/plain": [
              "<Axes: xlabel='x1', ylabel='x2'>"
            ]
          },
          "metadata": {},
          "execution_count": 33
        },
        {
          "output_type": "display_data",
          "data": {
            "text/plain": [
              "<Figure size 640x480 with 1 Axes>"
            ],
            "image/png": "[encoded data removed]"
          },
          "metadata": {}
        }
      ]
    },
    {
      "cell_type": "code",
      "source": [
        "df2_0 = df2_0[['x1', 'x2']]\n",
        "from sklearn.cluster import KMeans\n",
        "\n",
        "def maxmin(x):\n",
        "    x = (x-min(x))/(max(x)-min(x))\n",
        "    return x\n",
        "\n",
        "k_bar = 10\n",
        "SSE = []\n",
        "for k in range(k_bar):\n",
        "    model = KMeans(n_clusters=k+1, max_iter=300, n_init = 10, random_state=0)\n",
        "    model = model.fit(df2_0)\n",
        "    SSE.append(model.inertia_)\n",
        "\n",
        "scree_plot = sns.lineplot(x=np.arange(1,k_bar+1), y=SSE).set_title('Scree Plot')"
      ],
      "metadata": {
        "id": "_-DGNU7oed6k",
        "outputId": "898ac098-5433-4bd3-ac33-22b5fbf23de3",
        "colab": {
          "base_uri": "https://localhost:8080/",
          "height": 452
        }
      },
      "id": "_-DGNU7oed6k",
      "execution_count": 34,
      "outputs": [
        {
          "output_type": "display_data",
          "data": {
            "text/plain": [
              "<Figure size 640x480 with 1 Axes>"
            ],
            "image/png": "[encoded data removed]"
          },
          "metadata": {}
        }
      ]
    },
    {
      "cell_type": "markdown",
      "source": [
        "As the noise goes up, the visual distinctness of the clusters dissapears and the data is more spread out."
      ],
      "metadata": {
        "id": "WUzTGfY-aVsr"
      },
      "id": "WUzTGfY-aVsr"
    },
    {
      "cell_type": "markdown",
      "source": [
        "As the amount of noise increases, the elbow for the scree plot becomes less defined. This makes it harder to select k as there is a less distinct point to determine when there is no more gain from running the trial again."
      ],
      "metadata": {
        "id": "NzpIPTnVeqkz"
      },
      "id": "NzpIPTnVeqkz"
    },
    {
      "cell_type": "markdown",
      "source": [
        "The intuition of the elbow is finding the point of decreasing marginal returns. Up to a certain k value, there is a decrease in SSe, which means that the model is getting better. But at that certain point, there is no longer a massive return in decreasing SSe, and therefore it is no longer useful to keep increasing k. In the numerical example above, that point is around 3 when there is little amounts of noise in the data. This means that any more clusters will not make the model significantly better, and will likely just be a waste of resources."
      ],
      "metadata": {
        "id": "M6mA3TUxe2mc"
      },
      "id": "M6mA3TUxe2mc"
    },
    {
      "cell_type": "markdown",
      "id": "8013bcba",
      "metadata": {
        "id": "8013bcba"
      },
      "source": [
        "**Q2.** This question is a case study on clustering.\n",
        "\n",
        "1. Load the `2022 election cycle fundraising.csv` file in the `./data` folder. This has campaign finance data for the 2022 election for House and Senate candidates. We're going to focus on the total amount they raised, `Raised`, the total amount they spent, `Spent`, their available `Cash on Hand`, and their `Debts`. The variables denominated in dollars are messy and require cleaning. How do you handle it?\n",
        "2. Max-min normalize `Raised` and `Spent`. Use a scree plot to determine the optimal number of clusters for the $k$ means clustering algorithm. Make a scatter plot of `Raised` against `Spent` and hue the dots by their cluster membership. What do you see? Which politicians comprise the smallest two clusters? If necessary, look up some of these races to see how close they were.\n",
        "3. Repeat part 2, but for `Cash on Hand` and `Debts`. Compare your results with part 2. Why might this be? If necessary, look up some of these races to see how close they were.\n",
        "4. Use $k$ means clustering with all four numeric variables. How do your results compare to the previous two parts?\n",
        "5. Did the $k$-MC algorithm find useful patterns for you in analyzing the election?"
      ]
    },
    {
      "cell_type": "markdown",
      "id": "cfc78796",
      "metadata": {
        "id": "cfc78796"
      },
      "source": [
        "**Q3.** This question is a case study on clustering.\n",
        "\n",
        "1. Load the `SIPRI Military Expenditure Database.csv` file in the `./data` folder. This has data about military spending by country. Filter the rows to select only the year 2020, and drop all rows with missing values. I ended up with 148 countries. Is any further cleaning of the variables required?\n",
        "2. Max-min normalize `Spending (2020 USD)` and `Spending per Capita`. Use a scree plot to determine the optimal number of clusters for the $k$ means clustering algorithm. Make a scatter plot of `Spending (2020 USD)` and `Spending per Capita`, and hue the dots by their cluster membership. Compute a describe table conditional on cluster membership (i.e. `.groupby(cluster).describe()`). What do you see? Where is the United States? Do you notice any patterns in the cluster membership?\n",
        "3. Repeat part 2 for `Percent of Government Spending` and `Percent of GDP`. How do your results compare to part 2?\n",
        "4. Use $k$ means clustering with all four numeric variables: `Spending (2020 USD)`, `Spending per Capita`, `Percent of Government Spending`, and `Percent of GDP`. How do your results compare to the previous two parts?\n",
        "5. Did the $k$-MC algorithm find any useful patterns for you in analyzing the election?"
      ]
    },
    {
      "cell_type": "markdown",
      "id": "85dae156-b49b-4f43-bc42-ad1589132891",
      "metadata": {
        "id": "85dae156-b49b-4f43-bc42-ad1589132891"
      },
      "source": [
        "**Q4.** This question is a case study for $k$ means clustering.\n",
        "\n",
        "1. Load the `airbnb_hw.csv` data. Clean `Price` along with `Beds`, `Number of Reviews`, and `Review Scores Rating`.\n",
        "2. Maxmin normalize the data and remove any `nan`'s (`KMeans` from `sklearn` doesn't accept `nan` input).\n",
        "3. Use `sklearn`'s `KMeans` module to cluster the data by `Beds`, `Number of Reviews`, and `Review Scores Rating` for `k=6`.\n",
        "4. Use `seaborn`'s `.pairplot()` to make a grid of scatterplots that show how the clustering is carried out in multiple dimensions.\n",
        "5. Use `.groupby` and `.describe` to compute the average price for each cluster. Which clusters have the highest rental prices?\n",
        "6. Use a scree plot to pick the number of clusters and repeat steps 4 and 5."
      ]
    },
    {
      "cell_type": "code",
      "source": [
        "import pandas as pd\n",
        "\n",
        "data = pd.read_csv(\"https://raw.githubusercontent.com/RyanErm/clustering/refs/heads/main/assignment/data/airbnb_hw.csv\")\n"
      ],
      "metadata": {
        "id": "G7w354KkjEX8"
      },
      "id": "G7w354KkjEX8",
      "execution_count": 66,
      "outputs": []
    },
    {
      "cell_type": "code",
      "source": [
        "data"
      ],
      "metadata": {
        "id": "xSmOLQdHljEx",
        "outputId": "f69fbf5d-633f-426e-c85d-052efa1e1b63",
        "colab": {
          "base_uri": "https://localhost:8080/",
          "height": 562
        }
      },
      "id": "xSmOLQdHljEx",
      "execution_count": 67,
      "outputs": [
        {
          "output_type": "execute_result",
          "data": {
            "text/plain": [
              "        Host Id Host Since                                Name Neighbourhood   \\\n",
              "0       5162530        NaN     1 Bedroom in Prime Williamsburg       Brooklyn   \n",
              "1      33134899        NaN     Sunny, Private room in Bushwick       Brooklyn   \n",
              "2      39608626        NaN                Sunny Room in Harlem      Manhattan   \n",
              "3           500  6/26/2008  Gorgeous 1 BR with Private Balcony      Manhattan   \n",
              "4           500  6/26/2008            Trendy Times Square Loft      Manhattan   \n",
              "...         ...        ...                                 ...            ...   \n",
              "30473  43022976  8/31/2015   10 Mins to Time Square/two floors         Queens   \n",
              "30474  42993382  8/31/2015       1BR ocean view & F,Q train st       Brooklyn   \n",
              "30475  43033067  8/31/2015                Amazing Private Room       Brooklyn   \n",
              "30476  43000991  8/31/2015   Charming private female room: UWS      Manhattan   \n",
              "30477  42999189  8/31/2015    Huge Beautiful Bedroom - Astoria         Queens   \n",
              "\n",
              "      Property Type  Review Scores Rating (bin)        Room Type  Zipcode  \\\n",
              "0         Apartment                         NaN  Entire home/apt  11249.0   \n",
              "1         Apartment                         NaN     Private room  11206.0   \n",
              "2         Apartment                         NaN     Private room  10032.0   \n",
              "3         Apartment                         NaN  Entire home/apt  10024.0   \n",
              "4         Apartment                        95.0     Private room  10036.0   \n",
              "...             ...                         ...              ...      ...   \n",
              "30473     Apartment                         NaN  Entire home/apt  11101.0   \n",
              "30474     Apartment                         NaN     Private room  11224.0   \n",
              "30475         Other                         NaN     Private room  11206.0   \n",
              "30476     Apartment                         NaN     Private room  10025.0   \n",
              "30477         House                         NaN     Private room  11105.0   \n",
              "\n",
              "       Beds  Number of Records  Number Of Reviews Price  Review Scores Rating  \n",
              "0       1.0                  1                  0   145                   NaN  \n",
              "1       1.0                  1                  1    37                   NaN  \n",
              "2       1.0                  1                  1    28                   NaN  \n",
              "3       3.0                  1                  0   199                   NaN  \n",
              "4       3.0                  1                 39   549                  96.0  \n",
              "...     ...                ...                ...   ...                   ...  \n",
              "30473   5.0                  1                  0   300                   NaN  \n",
              "30474   2.0                  1                  0   125                   NaN  \n",
              "30475   1.0                  1                  0    80                   NaN  \n",
              "30476   1.0                  1                  0    35                   NaN  \n",
              "30477   1.0                  1                  0    80                   NaN  \n",
              "\n",
              "[30478 rows x 13 columns]"
            ],
            "text/html": [
              "\n",
              "  <div id=\"df-85fb1bb7-4098-4d1c-b189-d3fb8dac5c93\" class=\"colab-df-container\">\n",
              "    <div>\n",
              "<style scoped>\n",
              "    .dataframe tbody tr th:only-of-type {\n",
              "        vertical-align: middle;\n",
              "    }\n",
              "\n",
              "    .dataframe tbody tr th {\n",
              "        vertical-align: top;\n",
              "    }\n",
              "\n",
              "    .dataframe thead th {\n",
              "        text-align: right;\n",
              "    }\n",
              "</style>\n",
              "<table border=\"1\" class=\"dataframe\">\n",
              "  <thead>\n",
              "    <tr style=\"text-align: right;\">\n",
              "      <th></th>\n",
              "      <th>Host Id</th>\n",
              "      <th>Host Since</th>\n",
              "      <th>Name</th>\n",
              "      <th>Neighbourhood</th>\n",
              "      <th>Property Type</th>\n",
              "      <th>Review Scores Rating (bin)</th>\n",
              "      <th>Room Type</th>\n",
              "      <th>Zipcode</th>\n",
              "      <th>Beds</th>\n",
              "      <th>Number of Records</th>\n",
              "      <th>Number Of Reviews</th>\n",
              "      <th>Price</th>\n",
              "      <th>Review Scores Rating</th>\n",
              "    </tr>\n",
              "  </thead>\n",
              "  <tbody>\n",
              "    <tr>\n",
              "      <th>0</th>\n",
              "      <td>5162530</td>\n",
              "      <td>NaN</td>\n",
              "      <td>1 Bedroom in Prime Williamsburg</td>\n",
              "      <td>Brooklyn</td>\n",
              "      <td>Apartment</td>\n",
              "      <td>NaN</td>\n",
              "      <td>Entire home/apt</td>\n",
              "      <td>11249.0</td>\n",
              "      <td>1.0</td>\n",
              "      <td>1</td>\n",
              "      <td>0</td>\n",
              "      <td>145</td>\n",
              "      <td>NaN</td>\n",
              "    </tr>\n",
              "    <tr>\n",
              "      <th>1</th>\n",
              "      <td>33134899</td>\n",
              "      <td>NaN</td>\n",
              "      <td>Sunny, Private room in Bushwick</td>\n",
              "      <td>Brooklyn</td>\n",
              "      <td>Apartment</td>\n",
              "      <td>NaN</td>\n",
              "      <td>Private room</td>\n",
              "      <td>11206.0</td>\n",
              "      <td>1.0</td>\n",
              "      <td>1</td>\n",
              "      <td>1</td>\n",
              "      <td>37</td>\n",
              "      <td>NaN</td>\n",
              "    </tr>\n",
              "    <tr>\n",
              "      <th>2</th>\n",
              "      <td>39608626</td>\n",
              "      <td>NaN</td>\n",
              "      <td>Sunny Room in Harlem</td>\n",
              "      <td>Manhattan</td>\n",
              "      <td>Apartment</td>\n",
              "      <td>NaN</td>\n",
              "      <td>Private room</td>\n",
              "      <td>10032.0</td>\n",
              "      <td>1.0</td>\n",
              "      <td>1</td>\n",
              "      <td>1</td>\n",
              "      <td>28</td>\n",
              "      <td>NaN</td>\n",
              "    </tr>\n",
              "    <tr>\n",
              "      <th>3</th>\n",
              "      <td>500</td>\n",
              "      <td>6/26/2008</td>\n",
              "      <td>Gorgeous 1 BR with Private Balcony</td>\n",
              "      <td>Manhattan</td>\n",
              "      <td>Apartment</td>\n",
              "      <td>NaN</td>\n",
              "      <td>Entire home/apt</td>\n",
              "      <td>10024.0</td>\n",
              "      <td>3.0</td>\n",
              "      <td>1</td>\n",
              "      <td>0</td>\n",
              "      <td>199</td>\n",
              "      <td>NaN</td>\n",
              "    </tr>\n",
              "    <tr>\n",
              "      <th>4</th>\n",
              "      <td>500</td>\n",
              "      <td>6/26/2008</td>\n",
              "      <td>Trendy Times Square Loft</td>\n",
              "      <td>Manhattan</td>\n",
              "      <td>Apartment</td>\n",
              "      <td>95.0</td>\n",
              "      <td>Private room</td>\n",
              "      <td>10036.0</td>\n",
              "      <td>3.0</td>\n",
              "      <td>1</td>\n",
              "      <td>39</td>\n",
              "      <td>549</td>\n",
              "      <td>96.0</td>\n",
              "    </tr>\n",
              "    <tr>\n",
              "      <th>...</th>\n",
              "      <td>...</td>\n",
              "      <td>...</td>\n",
              "      <td>...</td>\n",
              "      <td>...</td>\n",
              "      <td>...</td>\n",
              "      <td>...</td>\n",
              "      <td>...</td>\n",
              "      <td>...</td>\n",
              "      <td>...</td>\n",
              "      <td>...</td>\n",
              "      <td>...</td>\n",
              "      <td>...</td>\n",
              "      <td>...</td>\n",
              "    </tr>\n",
              "    <tr>\n",
              "      <th>30473</th>\n",
              "      <td>43022976</td>\n",
              "      <td>8/31/2015</td>\n",
              "      <td>10 Mins to Time Square/two floors</td>\n",
              "      <td>Queens</td>\n",
              "      <td>Apartment</td>\n",
              "      <td>NaN</td>\n",
              "      <td>Entire home/apt</td>\n",
              "      <td>11101.0</td>\n",
              "      <td>5.0</td>\n",
              "      <td>1</td>\n",
              "      <td>0</td>\n",
              "      <td>300</td>\n",
              "      <td>NaN</td>\n",
              "    </tr>\n",
              "    <tr>\n",
              "      <th>30474</th>\n",
              "      <td>42993382</td>\n",
              "      <td>8/31/2015</td>\n",
              "      <td>1BR ocean view &amp; F,Q train st</td>\n",
              "      <td>Brooklyn</td>\n",
              "      <td>Apartment</td>\n",
              "      <td>NaN</td>\n",
              "      <td>Private room</td>\n",
              "      <td>11224.0</td>\n",
              "      <td>2.0</td>\n",
              "      <td>1</td>\n",
              "      <td>0</td>\n",
              "      <td>125</td>\n",
              "      <td>NaN</td>\n",
              "    </tr>\n",
              "    <tr>\n",
              "      <th>30475</th>\n",
              "      <td>43033067</td>\n",
              "      <td>8/31/2015</td>\n",
              "      <td>Amazing Private Room</td>\n",
              "      <td>Brooklyn</td>\n",
              "      <td>Other</td>\n",
              "      <td>NaN</td>\n",
              "      <td>Private room</td>\n",
              "      <td>11206.0</td>\n",
              "      <td>1.0</td>\n",
              "      <td>1</td>\n",
              "      <td>0</td>\n",
              "      <td>80</td>\n",
              "      <td>NaN</td>\n",
              "    </tr>\n",
              "    <tr>\n",
              "      <th>30476</th>\n",
              "      <td>43000991</td>\n",
              "      <td>8/31/2015</td>\n",
              "      <td>Charming private female room: UWS</td>\n",
              "      <td>Manhattan</td>\n",
              "      <td>Apartment</td>\n",
              "      <td>NaN</td>\n",
              "      <td>Private room</td>\n",
              "      <td>10025.0</td>\n",
              "      <td>1.0</td>\n",
              "      <td>1</td>\n",
              "      <td>0</td>\n",
              "      <td>35</td>\n",
              "      <td>NaN</td>\n",
              "    </tr>\n",
              "    <tr>\n",
              "      <th>30477</th>\n",
              "      <td>42999189</td>\n",
              "      <td>8/31/2015</td>\n",
              "      <td>Huge Beautiful Bedroom - Astoria</td>\n",
              "      <td>Queens</td>\n",
              "      <td>House</td>\n",
              "      <td>NaN</td>\n",
              "      <td>Private room</td>\n",
              "      <td>11105.0</td>\n",
              "      <td>1.0</td>\n",
              "      <td>1</td>\n",
              "      <td>0</td>\n",
              "      <td>80</td>\n",
              "      <td>NaN</td>\n",
              "    </tr>\n",
              "  </tbody>\n",
              "</table>\n",
              "<p>30478 rows × 13 columns</p>\n",
              "</div>\n",
              "    <div class=\"colab-df-buttons\">\n",
              "\n",
              "  <div class=\"colab-df-container\">\n",
              "    <button class=\"colab-df-convert\" onclick=\"convertToInteractive('df-85fb1bb7-4098-4d1c-b189-d3fb8dac5c93')\"\n",
              "            title=\"Convert this dataframe to an interactive table.\"\n",
              "            style=\"display:none;\">\n",
              "\n",
              "  <svg xmlns=\"http://www.w3.org/2000/svg\" height=\"24px\" viewBox=\"0 -960 960 960\">\n",
              "    <path d=\"M120-120v-720h720v720H120Zm60-500h600v-160H180v160Zm220 220h160v-160H400v160Zm0 220h160v-160H400v160ZM180-400h160v-160H180v160Zm440 0h160v-160H620v160ZM180-180h160v-160H180v160Zm440 0h160v-160H620v160Z\"/>\n",
              "  </svg>\n",
              "    </button>\n",
              "\n",
              "  <style>\n",
              "    .colab-df-container {\n",
              "      display:flex;\n",
              "      gap: 12px;\n",
              "    }\n",
              "\n",
              "    .colab-df-convert {\n",
              "      background-color: #E8F0FE;\n",
              "      border: none;\n",
              "      border-radius: 50%;\n",
              "      cursor: pointer;\n",
              "      display: none;\n",
              "      fill: #1967D2;\n",
              "      height: 32px;\n",
              "      padding: 0 0 0 0;\n",
              "      width: 32px;\n",
              "    }\n",
              "\n",
              "    .colab-df-convert:hover {\n",
              "      background-color: #E2EBFA;\n",
              "      box-shadow: 0px 1px 2px rgba(60, 64, 67, 0.3), 0px 1px 3px 1px rgba(60, 64, 67, 0.15);\n",
              "      fill: #174EA6;\n",
              "    }\n",
              "\n",
              "    .colab-df-buttons div {\n",
              "      margin-bottom: 4px;\n",
              "    }\n",
              "\n",
              "    [theme=dark] .colab-df-convert {\n",
              "      background-color: #3B4455;\n",
              "      fill: #D2E3FC;\n",
              "    }\n",
              "\n",
              "    [theme=dark] .colab-df-convert:hover {\n",
              "      background-color: #434B5C;\n",
              "      box-shadow: 0px 1px 3px 1px rgba(0, 0, 0, 0.15);\n",
              "      filter: drop-shadow(0px 1px 2px rgba(0, 0, 0, 0.3));\n",
              "      fill: #FFFFFF;\n",
              "    }\n",
              "  </style>\n",
              "\n",
              "    <script>\n",
              "      const buttonEl =\n",
              "        document.querySelector('#df-85fb1bb7-4098-4d1c-b189-d3fb8dac5c93 button.colab-df-convert');\n",
              "      buttonEl.style.display =\n",
              "        google.colab.kernel.accessAllowed ? 'block' : 'none';\n",
              "\n",
              "      async function convertToInteractive(key) {\n",
              "        const element = document.querySelector('#df-85fb1bb7-4098-4d1c-b189-d3fb8dac5c93');\n",
              "        const dataTable =\n",
              "          await google.colab.kernel.invokeFunction('convertToInteractive',\n",
              "                                                    [key], {});\n",
              "        if (!dataTable) return;\n",
              "\n",
              "        const docLinkHtml = 'Like what you see? Visit the ' +\n",
              "          '<a target=\"_blank\" href=https://colab.research.google.com/notebooks/data_table.ipynb>data table notebook</a>'\n",
              "          + ' to learn more about interactive tables.';\n",
              "        element.innerHTML = '';\n",
              "        dataTable['output_type'] = 'display_data';\n",
              "        await google.colab.output.renderOutput(dataTable, element);\n",
              "        const docLink = document.createElement('div');\n",
              "        docLink.innerHTML = docLinkHtml;\n",
              "        element.appendChild(docLink);\n",
              "      }\n",
              "    </script>\n",
              "  </div>\n",
              "\n",
              "\n",
              "<div id=\"df-b9cf9c1b-f949-4088-a933-00f762c7aba3\">\n",
              "  <button class=\"colab-df-quickchart\" onclick=\"quickchart('df-b9cf9c1b-f949-4088-a933-00f762c7aba3')\"\n",
              "            title=\"Suggest charts\"\n",
              "            style=\"display:none;\">\n",
              "\n",
              "<svg xmlns=\"http://www.w3.org/2000/svg\" height=\"24px\"viewBox=\"0 0 24 24\"\n",
              "     width=\"24px\">\n",
              "    <g>\n",
              "        <path d=\"M19 3H5c-1.1 0-2 .9-2 2v14c0 1.1.9 2 2 2h14c1.1 0 2-.9 2-2V5c0-1.1-.9-2-2-2zM9 17H7v-7h2v7zm4 0h-2V7h2v10zm4 0h-2v-4h2v4z\"/>\n",
              "    </g>\n",
              "</svg>\n",
              "  </button>\n",
              "\n",
              "<style>\n",
              "  .colab-df-quickchart {\n",
              "      --bg-color: #E8F0FE;\n",
              "      --fill-color: #1967D2;\n",
              "      --hover-bg-color: #E2EBFA;\n",
              "      --hover-fill-color: #174EA6;\n",
              "      --disabled-fill-color: #AAA;\n",
              "      --disabled-bg-color: #DDD;\n",
              "  }\n",
              "\n",
              "  [theme=dark] .colab-df-quickchart {\n",
              "      --bg-color: #3B4455;\n",
              "      --fill-color: #D2E3FC;\n",
              "      --hover-bg-color: #434B5C;\n",
              "      --hover-fill-color: #FFFFFF;\n",
              "      --disabled-bg-color: #3B4455;\n",
              "      --disabled-fill-color: #666;\n",
              "  }\n",
              "\n",
              "  .colab-df-quickchart {\n",
              "    background-color: var(--bg-color);\n",
              "    border: none;\n",
              "    border-radius: 50%;\n",
              "    cursor: pointer;\n",
              "    display: none;\n",
              "    fill: var(--fill-color);\n",
              "    height: 32px;\n",
              "    padding: 0;\n",
              "    width: 32px;\n",
              "  }\n",
              "\n",
              "  .colab-df-quickchart:hover {\n",
              "    background-color: var(--hover-bg-color);\n",
              "    box-shadow: 0 1px 2px rgba(60, 64, 67, 0.3), 0 1px 3px 1px rgba(60, 64, 67, 0.15);\n",
              "    fill: var(--button-hover-fill-color);\n",
              "  }\n",
              "\n",
              "  .colab-df-quickchart-complete:disabled,\n",
              "  .colab-df-quickchart-complete:disabled:hover {\n",
              "    background-color: var(--disabled-bg-color);\n",
              "    fill: var(--disabled-fill-color);\n",
              "    box-shadow: none;\n",
              "  }\n",
              "\n",
              "  .colab-df-spinner {\n",
              "    border: 2px solid var(--fill-color);\n",
              "    border-color: transparent;\n",
              "    border-bottom-color: var(--fill-color);\n",
              "    animation:\n",
              "      spin 1s steps(1) infinite;\n",
              "  }\n",
              "\n",
              "  @keyframes spin {\n",
              "    0% {\n",
              "      border-color: transparent;\n",
              "      border-bottom-color: var(--fill-color);\n",
              "      border-left-color: var(--fill-color);\n",
              "    }\n",
              "    20% {\n",
              "      border-color: transparent;\n",
              "      border-left-color: var(--fill-color);\n",
              "      border-top-color: var(--fill-color);\n",
              "    }\n",
              "    30% {\n",
              "      border-color: transparent;\n",
              "      border-left-color: var(--fill-color);\n",
              "      border-top-color: var(--fill-color);\n",
              "      border-right-color: var(--fill-color);\n",
              "    }\n",
              "    40% {\n",
              "      border-color: transparent;\n",
              "      border-right-color: var(--fill-color);\n",
              "      border-top-color: var(--fill-color);\n",
              "    }\n",
              "    60% {\n",
              "      border-color: transparent;\n",
              "      border-right-color: var(--fill-color);\n",
              "    }\n",
              "    80% {\n",
              "      border-color: transparent;\n",
              "      border-right-color: var(--fill-color);\n",
              "      border-bottom-color: var(--fill-color);\n",
              "    }\n",
              "    90% {\n",
              "      border-color: transparent;\n",
              "      border-bottom-color: var(--fill-color);\n",
              "    }\n",
              "  }\n",
              "</style>\n",
              "\n",
              "  <script>\n",
              "    async function quickchart(key) {\n",
              "      const quickchartButtonEl =\n",
              "        document.querySelector('#' + key + ' button');\n",
              "      quickchartButtonEl.disabled = true;  // To prevent multiple clicks.\n",
              "      quickchartButtonEl.classList.add('colab-df-spinner');\n",
              "      try {\n",
              "        const charts = await google.colab.kernel.invokeFunction(\n",
              "            'suggestCharts', [key], {});\n",
              "      } catch (error) {\n",
              "        console.error('Error during call to suggestCharts:', error);\n",
              "      }\n",
              "      quickchartButtonEl.classList.remove('colab-df-spinner');\n",
              "      quickchartButtonEl.classList.add('colab-df-quickchart-complete');\n",
              "    }\n",
              "    (() => {\n",
              "      let quickchartButtonEl =\n",
              "        document.querySelector('#df-b9cf9c1b-f949-4088-a933-00f762c7aba3 button');\n",
              "      quickchartButtonEl.style.display =\n",
              "        google.colab.kernel.accessAllowed ? 'block' : 'none';\n",
              "    })();\n",
              "  </script>\n",
              "</div>\n",
              "\n",
              "  <div id=\"id_a75bc1a6-4dd7-44d0-87bb-a0b66ad1a852\">\n",
              "    <style>\n",
              "      .colab-df-generate {\n",
              "        background-color: #E8F0FE;\n",
              "        border: none;\n",
              "        border-radius: 50%;\n",
              "        cursor: pointer;\n",
              "        display: none;\n",
              "        fill: #1967D2;\n",
              "        height: 32px;\n",
              "        padding: 0 0 0 0;\n",
              "        width: 32px;\n",
              "      }\n",
              "\n",
              "      .colab-df-generate:hover {\n",
              "        background-color: #E2EBFA;\n",
              "        box-shadow: 0px 1px 2px rgba(60, 64, 67, 0.3), 0px 1px 3px 1px rgba(60, 64, 67, 0.15);\n",
              "        fill: #174EA6;\n",
              "      }\n",
              "\n",
              "      [theme=dark] .colab-df-generate {\n",
              "        background-color: #3B4455;\n",
              "        fill: #D2E3FC;\n",
              "      }\n",
              "\n",
              "      [theme=dark] .colab-df-generate:hover {\n",
              "        background-color: #434B5C;\n",
              "        box-shadow: 0px 1px 3px 1px rgba(0, 0, 0, 0.15);\n",
              "        filter: drop-shadow(0px 1px 2px rgba(0, 0, 0, 0.3));\n",
              "        fill: #FFFFFF;\n",
              "      }\n",
              "    </style>\n",
              "    <button class=\"colab-df-generate\" onclick=\"generateWithVariable('data')\"\n",
              "            title=\"Generate code using this dataframe.\"\n",
              "            style=\"display:none;\">\n",
              "\n",
              "  <svg xmlns=\"http://www.w3.org/2000/svg\" height=\"24px\"viewBox=\"0 0 24 24\"\n",
              "       width=\"24px\">\n",
              "    <path d=\"M7,19H8.4L18.45,9,17,7.55,7,17.6ZM5,21V16.75L18.45,3.32a2,2,0,0,1,2.83,0l1.4,1.43a1.91,1.91,0,0,1,.58,1.4,1.91,1.91,0,0,1-.58,1.4L9.25,21ZM18.45,9,17,7.55Zm-12,3A5.31,5.31,0,0,0,4.9,8.1,5.31,5.31,0,0,0,1,6.5,5.31,5.31,0,0,0,4.9,4.9,5.31,5.31,0,0,0,6.5,1,5.31,5.31,0,0,0,8.1,4.9,5.31,5.31,0,0,0,12,6.5,5.46,5.46,0,0,0,6.5,12Z\"/>\n",
              "  </svg>\n",
              "    </button>\n",
              "    <script>\n",
              "      (() => {\n",
              "      const buttonEl =\n",
              "        document.querySelector('#id_a75bc1a6-4dd7-44d0-87bb-a0b66ad1a852 button.colab-df-generate');\n",
              "      buttonEl.style.display =\n",
              "        google.colab.kernel.accessAllowed ? 'block' : 'none';\n",
              "\n",
              "      buttonEl.onclick = () => {\n",
              "        google.colab.notebook.generateWithVariable('data');\n",
              "      }\n",
              "      })();\n",
              "    </script>\n",
              "  </div>\n",
              "\n",
              "    </div>\n",
              "  </div>\n"
            ],
            "application/vnd.google.colaboratory.intrinsic+json": {
              "type": "dataframe",
              "variable_name": "data",
              "summary": "{\n  \"name\": \"data\",\n  \"rows\": 30478,\n  \"fields\": [\n    {\n      \"column\": \"Host Id\",\n      \"properties\": {\n        \"dtype\": \"number\",\n        \"std\": 11902702,\n        \"min\": 500,\n        \"max\": 43033067,\n        \"num_unique_values\": 24421,\n        \"samples\": [\n          24093114,\n          16925490,\n          2886652\n        ],\n        \"semantic_type\": \"\",\n        \"description\": \"\"\n      }\n    },\n    {\n      \"column\": \"Host Since\",\n      \"properties\": {\n        \"dtype\": \"date\",\n        \"min\": \"2008-06-26 00:00:00\",\n        \"max\": \"2015-08-31 00:00:00\",\n        \"num_unique_values\": 2240,\n        \"samples\": [\n          \"5/20/2010\",\n          \"7/2/2009\",\n          \"4/18/2015\"\n        ],\n        \"semantic_type\": \"\",\n        \"description\": \"\"\n      }\n    },\n    {\n      \"column\": \"Name\",\n      \"properties\": {\n        \"dtype\": \"string\",\n        \"num_unique_values\": 29413,\n        \"samples\": [\n          \"Explore the beauty of Brooklyn\",\n          \"Sunny Room in Williamsburg Loft\",\n          \"cozy one bedroom in lower east side\"\n        ],\n        \"semantic_type\": \"\",\n        \"description\": \"\"\n      }\n    },\n    {\n      \"column\": \"Neighbourhood \",\n      \"properties\": {\n        \"dtype\": \"category\",\n        \"num_unique_values\": 5,\n        \"samples\": [\n          \"Manhattan\",\n          \"Staten Island\",\n          \"Queens\"\n        ],\n        \"semantic_type\": \"\",\n        \"description\": \"\"\n      }\n    },\n    {\n      \"column\": \"Property Type\",\n      \"properties\": {\n        \"dtype\": \"category\",\n        \"num_unique_values\": 19,\n        \"samples\": [\n          \"Apartment\",\n          \"Condominium\",\n          \"Bungalow\"\n        ],\n        \"semantic_type\": \"\",\n        \"description\": \"\"\n      }\n    },\n    {\n      \"column\": \"Review Scores Rating (bin)\",\n      \"properties\": {\n        \"dtype\": \"number\",\n        \"std\": 9.05951861814779,\n        \"min\": 20.0,\n        \"max\": 100.0,\n        \"num_unique_values\": 15,\n        \"samples\": [\n          40.0,\n          20.0,\n          95.0\n        ],\n        \"semantic_type\": \"\",\n        \"description\": \"\"\n      }\n    },\n    {\n      \"column\": \"Room Type\",\n      \"properties\": {\n        \"dtype\": \"category\",\n        \"num_unique_values\": 3,\n        \"samples\": [\n          \"Entire home/apt\",\n          \"Private room\",\n          \"Shared room\"\n        ],\n        \"semantic_type\": \"\",\n        \"description\": \"\"\n      }\n    },\n    {\n      \"column\": \"Zipcode\",\n      \"properties\": {\n        \"dtype\": \"number\",\n        \"std\": 921.2993969568683,\n        \"min\": 1003.0,\n        \"max\": 99135.0,\n        \"num_unique_values\": 188,\n        \"samples\": [\n          11414.0,\n          11239.0,\n          11365.0\n        ],\n        \"semantic_type\": \"\",\n        \"description\": \"\"\n      }\n    },\n    {\n      \"column\": \"Beds\",\n      \"properties\": {\n        \"dtype\": \"number\",\n        \"std\": 1.0153587174802678,\n        \"min\": 0.0,\n        \"max\": 16.0,\n        \"num_unique_values\": 14,\n        \"samples\": [\n          12.0,\n          16.0,\n          1.0\n        ],\n        \"semantic_type\": \"\",\n        \"description\": \"\"\n      }\n    },\n    {\n      \"column\": \"Number of Records\",\n      \"properties\": {\n        \"dtype\": \"number\",\n        \"std\": 0,\n        \"min\": 1,\n        \"max\": 1,\n        \"num_unique_values\": 1,\n        \"samples\": [\n          1\n        ],\n        \"semantic_type\": \"\",\n        \"description\": \"\"\n      }\n    },\n    {\n      \"column\": \"Number Of Reviews\",\n      \"properties\": {\n        \"dtype\": \"number\",\n        \"std\": 21,\n        \"min\": 0,\n        \"max\": 257,\n        \"num_unique_values\": 205,\n        \"samples\": [\n          171\n        ],\n        \"semantic_type\": \"\",\n        \"description\": \"\"\n      }\n    },\n    {\n      \"column\": \"Price\",\n      \"properties\": {\n        \"dtype\": \"category\",\n        \"num_unique_values\": 511,\n        \"samples\": [\n          \"299\"\n        ],\n        \"semantic_type\": \"\",\n        \"description\": \"\"\n      }\n    },\n    {\n      \"column\": \"Review Scores Rating\",\n      \"properties\": {\n        \"dtype\": \"number\",\n        \"std\": 8.850373136231884,\n        \"min\": 20.0,\n        \"max\": 100.0,\n        \"num_unique_values\": 51,\n        \"samples\": [\n          58.0\n        ],\n        \"semantic_type\": \"\",\n        \"description\": \"\"\n      }\n    }\n  ]\n}"
            }
          },
          "metadata": {},
          "execution_count": 67
        }
      ]
    },
    {
      "cell_type": "code",
      "source": [
        "print(data['Price'].unique())\n",
        "\n",
        "data['Price'] = pd.to_numeric(data['Price'], errors = \"coerce\")\n"
      ],
      "metadata": {
        "id": "2L69X4-9kmAq",
        "outputId": "4e3d0b17-4cca-4f52-83d8-bce1785532f3",
        "colab": {
          "base_uri": "https://localhost:8080/"
        }
      },
      "id": "2L69X4-9kmAq",
      "execution_count": 76,
      "outputs": [
        {
          "output_type": "stream",
          "name": "stdout",
          "text": [
            "[145.  37.  28. 199. 549. 149. 250.  90. 270. 290. 170.  59.  49.  68.\n",
            " 285.  75. 100. 150. 700. 125. 175.  40.  89.  95.  99. 499. 120.  79.\n",
            " 110. 180. 143. 230. 350. 135.  85.  60.  70.  55.  44. 200. 165. 115.\n",
            "  74.  84. 129.  50. 185.  80. 190. 140.  45.  65. 225. 600. 109.  nan\n",
            "  73. 240.  72. 105. 155. 160.  42. 132. 117. 295. 280. 159. 107.  69.\n",
            " 239. 220. 399. 130. 375. 585. 275. 139. 260.  35. 133. 300. 289. 179.\n",
            "  98. 195.  29.  27.  39. 249. 192. 142. 169. 131. 138. 113. 122. 329.\n",
            " 101. 475. 238. 272. 308. 126. 235. 315. 248. 128.  56. 207. 450. 215.\n",
            " 210. 385. 445. 136. 247. 118.  77.  76.  92. 198. 205. 299. 222. 245.\n",
            " 104. 153. 349. 114. 320. 292. 226. 420. 500. 325. 307.  78. 265. 108.\n",
            " 123. 189.  32.  58.  86. 219. 800. 335.  63. 229. 425.  67.  87. 158.\n",
            " 650. 234. 310. 695. 400. 166. 119.  62. 168. 340. 479.  43. 395. 144.\n",
            "  52.  47. 529. 187. 209. 233.  82. 269. 163. 172. 305. 156. 550. 435.\n",
            " 137. 124.  48. 279. 330. 134. 378.  97. 277.  64. 193. 147. 186. 264.\n",
            "  30. 112.  94. 379.  57. 415. 236. 410. 214.  88.  66.  71. 171. 157.\n",
            " 545.  83.  96.  81. 188. 380. 255. 505.  54.  33. 174.  93. 740. 640.\n",
            " 440. 599. 357. 495. 127. 178. 348. 152. 242. 183. 253. 750. 259. 365.\n",
            " 273. 197. 397. 103. 389. 355. 559.  38. 203. 999. 141. 162. 333. 698.\n",
            "  46. 360. 895.  10.  41. 206. 281. 449. 388. 212. 102. 201. 432. 675.\n",
            " 167. 390. 298. 339. 194. 302. 211. 595. 191.  53. 361. 480. 459. 997.\n",
            " 345. 216. 218. 111. 735. 276.  91. 490. 850. 398.  36. 775. 267. 625.\n",
            " 336. 176. 725. 469. 106. 460. 287. 575. 227. 263.  25. 228. 208. 177.\n",
            " 880. 148. 116. 685. 470. 217. 164.  61. 645. 699. 405. 252. 319. 268.\n",
            " 419. 343. 525. 311. 840. 154. 294. 950. 409. 184. 257. 204. 241. 412.\n",
            " 121. 288. 196. 900. 647. 524. 309. 510. 799. 383. 372. 492. 327. 656.\n",
            " 224. 173. 875. 795. 690. 146. 465. 151. 274. 429. 825. 282. 256. 620.\n",
            " 271. 161.  51. 855. 579. 430.  20. 899. 649. 485. 181. 455. 243. 342.\n",
            " 590. 560. 374. 437. 232. 359. 985.  31. 244. 254. 723. 237. 428. 370.\n",
            "  34. 580. 221. 749. 306. 202. 680. 570. 520. 223. 213. 346.  24. 286.\n",
            " 296. 266.  26. 995. 393. 182. 635. 258. 780. 589. 347. 446. 975. 323.\n",
            " 715. 461. 540. 356. 439. 384. 569.  22. 785. 626. 830. 318. 444. 321.\n",
            " 401. 888. 369. 770. 386. 366. 344. 630. 313. 597. 262. 509. 278. 312.\n",
            " 789. 422.  21. 765. 945. 326. 472. 454. 328. 396. 291.]\n"
          ]
        }
      ]
    },
    {
      "cell_type": "code",
      "source": [
        "print(data['Beds'].unique())\n",
        "\n",
        "data['Beds'] = pd.to_numeric(data['Beds'], errors = \"coerce\")\n"
      ],
      "metadata": {
        "id": "BtX8eibLkxtv",
        "outputId": "c647e00c-be67-4d70-d0d3-3b64356da781",
        "colab": {
          "base_uri": "https://localhost:8080/"
        }
      },
      "id": "BtX8eibLkxtv",
      "execution_count": 77,
      "outputs": [
        {
          "output_type": "stream",
          "name": "stdout",
          "text": [
            "[ 1.  3.  2.  4.  5. nan  6. 10.  7.  8. 12.  0. 16.  9. 11.]\n"
          ]
        }
      ]
    },
    {
      "cell_type": "code",
      "source": [
        "print(data[\"Number Of Reviews\"].unique())\n",
        "\n",
        "data['Number Of Reviews'] = pd.to_numeric(data['Number Of Reviews'], errors = \"coerce\")\n",
        "data['Number Of Reviews'] = data['Number Of Reviews'].dropna()"
      ],
      "metadata": {
        "id": "nOS0iayDlPRR",
        "outputId": "a43f2f22-a9d2-426f-8073-2d58d690f1a9",
        "colab": {
          "base_uri": "https://localhost:8080/"
        }
      },
      "id": "nOS0iayDlPRR",
      "execution_count": 78,
      "outputs": [
        {
          "output_type": "stream",
          "name": "stdout",
          "text": [
            "[  0   1  39   4   9  80  95  23  14 120  81  17  32  52   3 171  16  19\n",
            "   2  28  62   6   5  12  40  47  13  35  34  68  42   7  41  15  21   8\n",
            "  10  29 112  25 132  51 156  30  98  24  74  20 188 221  57  11 242  67\n",
            " 118  60 136 119  79 106  43  91 105  96 141 146  63  58  18 150  38  55\n",
            "  89  46  77  48  36  69  26  73  53 165  92  87 108 109  50 127  88  83\n",
            " 184 179  22  31  82  27 123 247 190 257 217  85 103 157 102  56 125 115\n",
            "  49  97  54  65  90  44  33 100  37 107 114 116  61 104  71  75 145  84\n",
            "  93 110 172 148 131 154  86  64  76 129  45 180 140  78 200 175 189 170\n",
            " 187  72 137  99 101  59  94 124 223 173 151 142 163 121 256 248 149 128\n",
            " 133  66 117 176 111  70 183 218 192 206 161 216 191 213 178 122 153 177\n",
            " 167 113 126 135 181 138 143 195 182 198 211 166 139 134 144 174 159 155\n",
            " 203 201 164 212 236 235 130]\n"
          ]
        }
      ]
    },
    {
      "cell_type": "code",
      "source": [
        "print(data['Review Scores Rating'].unique)\n",
        "\n",
        "data['Review Scores Rating'] = pd.to_numeric(data['Review Scores Rating'], errors = \"coerce\")\n",
        "data['Review Scores Rating'] = data['Review Scores Rating'].dropna()"
      ],
      "metadata": {
        "id": "42MXPdQFlPpt",
        "outputId": "f98f5f67-1b6a-4e7b-93b4-ee01db8b4f8e",
        "colab": {
          "base_uri": "https://localhost:8080/"
        }
      },
      "id": "42MXPdQFlPpt",
      "execution_count": 79,
      "outputs": [
        {
          "output_type": "stream",
          "name": "stdout",
          "text": [
            "<bound method Series.unique of 0         NaN\n",
            "1         NaN\n",
            "2         NaN\n",
            "3         NaN\n",
            "4        96.0\n",
            "         ... \n",
            "30473     NaN\n",
            "30474     NaN\n",
            "30475     NaN\n",
            "30476     NaN\n",
            "30477     NaN\n",
            "Name: Review Scores Rating, Length: 30478, dtype: float64>\n"
          ]
        }
      ]
    },
    {
      "cell_type": "code",
      "source": [
        "data_clean = data[[\"Number Of Reviews\", \"Beds\", \"Review Scores Rating\", \"Price\"]]\n",
        "data_clean = data_clean.dropna()\n",
        "def maxmin(x):\n",
        "    x = (x-min(x))/(max(x)-min(x))\n",
        "    return x\n",
        "for column in data_clean.columns:\n",
        "  data_clean[column] = maxmin(data_clean[column])"
      ],
      "metadata": {
        "id": "eYMBFKSjkDew"
      },
      "id": "eYMBFKSjkDew",
      "execution_count": 80,
      "outputs": []
    },
    {
      "cell_type": "code",
      "source": [
        "print(data_clean.isna().sum())"
      ],
      "metadata": {
        "id": "9chWUqorl6us",
        "outputId": "5e63f37e-3ad7-4372-b01b-d1d128fadf02",
        "colab": {
          "base_uri": "https://localhost:8080/"
        }
      },
      "id": "9chWUqorl6us",
      "execution_count": 82,
      "outputs": [
        {
          "output_type": "stream",
          "name": "stdout",
          "text": [
            "Number Of Reviews       0\n",
            "Beds                    0\n",
            "Review Scores Rating    0\n",
            "Price                   0\n",
            "dtype: int64\n"
          ]
        }
      ]
    },
    {
      "cell_type": "code",
      "source": [],
      "metadata": {
        "id": "qJCOuBtMmvsF",
        "outputId": "dfb0b773-b478-4f6c-e67b-1885e08f3097",
        "colab": {
          "base_uri": "https://localhost:8080/"
        }
      },
      "id": "qJCOuBtMmvsF",
      "execution_count": 84,
      "outputs": [
        {
          "output_type": "stream",
          "name": "stdout",
          "text": [
            "KMeans(n_clusters=6, n_init=10, random_state=0)\n"
          ]
        }
      ]
    },
    {
      "cell_type": "markdown",
      "id": "870041b4-204b-4bc4-bf8a-3fe2f8734a58",
      "metadata": {
        "id": "870041b4-204b-4bc4-bf8a-3fe2f8734a58"
      },
      "source": [
        "**Q5.** We looked at computer vision with $k$NN in a previous question. Can $k$ means clustering correctly group digits, even if we don't know which symbols are which?\n",
        "\n",
        "1. To load the data, run the following code in a chunk:\n",
        "```\n",
        "from keras.datasets import mnist\n",
        "df = mnist.load_data('minst.db')\n",
        "train,test = df\n",
        "X_train, y_train = train\n",
        "X_test, y_test = test\n",
        "```\n",
        "The `y_test` and `y_train` vectors, for each index `i`, tell you want number is written in the corresponding index in `X_train[i]` and `X_test[i]`. The value of `X_train[i]` and `X_test[i]`, however, is a 28$\\times$28 array whose entries contain values between 0 and 256. Each element of the matrix is essentially a \"pixel\" and the matrix encodes a representation of a number. To visualize this, run the following code to see the first ten numbers:\n",
        "```\n",
        "import matplotlib.pyplot as plt\n",
        "import numpy as np\n",
        "np.set_printoptions(edgeitems=30, linewidth=100000)\n",
        "for i in range(5):\n",
        "    print(y_test[i],'\\n') # Print the label\n",
        "    print(X_test[i],'\\n') # Print the matrix of values\n",
        "    plt.contourf(np.rot90(X_test[i].transpose())) # Make a contour plot of the matrix values\n",
        "    plt.show()\n",
        "```\n",
        "OK, those are the data: Labels attached to handwritten digits encoded as a matrix.\n",
        "\n",
        "2. What is the shape of `X_train` and `X_test`? What is the shape of `X_train[i]` and `X_test[i]` for each index `i`? What is the shape of `y_train` and `y_test`?\n",
        "3. Use Numpy's `.reshape()` method to covert the training and testing data from a matrix into an vector of features. So, `X_test[index].reshape((1,784))` will convert the $index$-th element of `X_test` into a $28\\times 28=784$-length row vector of values, rather than a matrix. Turn `X_train` into an $N \\times 784$ matrix $X$ that is suitable for scikit-learn's kNN classifier where $N$ is the number of observations and $784=28*28$ (you could use, for example, a `for` loop).\n",
        "4. Use $k$ means clustering on the reshaped `X_test` data with `k=10`.  \n",
        "5. Cross tabulate the cluster assignments with the true labels for the test set values. How good is the correspondence? What proportion of digits are clustered correctly? Which digits are the hardest to distinguish from one another? Can $k$MC recover the latent digits 0 to 9, without even knowing what those digits were?\n",
        "6. If you use a scree plot to determine the number of clusters $k$, does it pick 10 (the true number of digits), or not? If it fails to pick $k=10$, which digits does it tend to combine into the same classification?"
      ]
    }
  ],
  "metadata": {
    "colab": {
      "provenance": []
    },
    "kernelspec": {
      "display_name": "Python 3 (ipykernel)",
      "language": "python",
      "name": "python3"
    },
    "language_info": {
      "codemirror_mode": {
        "name": "ipython",
        "version": 3
      },
      "file_extension": ".py",
      "mimetype": "text/x-python",
      "name": "python",
      "nbconvert_exporter": "python",
      "pygments_lexer": "ipython3",
      "version": "3.11.4"
    }
  },
  "nbformat": 4,
  "nbformat_minor": 5
}